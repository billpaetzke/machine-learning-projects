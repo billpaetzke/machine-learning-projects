{
 "cells": [
  {
   "cell_type": "markdown",
   "metadata": {},
   "source": [
    "# Introduction\n",
    "\n",
    "In this project, you will build a neural network of your own design to evaluate the CIFAR-10 dataset.\n",
    "\n",
    "To meet the requirements for this project, you will need to achieve an accuracy greater than 45%. \n",
    "If you want to beat Detectocorp's algorithm, you'll need to achieve an accuracy greater than 70%. \n",
    "(Beating Detectocorp's algorithm is not a requirement for passing this project, but you're encouraged to try!)\n",
    "\n",
    "Some of the benchmark results on CIFAR-10 include:\n",
    "\n",
    "78.9% Accuracy | [Deep Belief Networks; Krizhevsky, 2010](https://www.cs.toronto.edu/~kriz/conv-cifar10-aug2010.pdf)\n",
    "\n",
    "90.6% Accuracy | [Maxout Networks; Goodfellow et al., 2013](https://arxiv.org/pdf/1302.4389.pdf)\n",
    "\n",
    "96.0% Accuracy | [Wide Residual Networks; Zagoruyko et al., 2016](https://arxiv.org/pdf/1605.07146.pdf)\n",
    "\n",
    "99.0% Accuracy | [GPipe; Huang et al., 2018](https://arxiv.org/pdf/1811.06965.pdf)\n",
    "\n",
    "98.5% Accuracy | [Rethinking Recurrent Neural Networks and other Improvements for ImageClassification; Nguyen et al., 2020](https://arxiv.org/pdf/2007.15161.pdf)\n",
    "\n",
    "Research with this dataset is ongoing. Notably, many of these networks are quite large and quite expensive to train. \n",
    "\n",
    "## Imports"
   ]
  },
  {
   "cell_type": "code",
   "execution_count": 21,
   "metadata": {},
   "outputs": [],
   "source": [
    "## This cell contains the essential imports you will need – DO NOT CHANGE THE CONTENTS! ##\n",
    "import torch\n",
    "import torch.nn as nn\n",
    "import torch.nn.functional as F\n",
    "import torch.optim as optim\n",
    "import torchvision\n",
    "import torchvision.transforms as transforms\n",
    "import matplotlib.pyplot as plt\n",
    "import numpy as np"
   ]
  },
  {
   "cell_type": "code",
   "execution_count": 22,
   "metadata": {},
   "outputs": [],
   "source": [
    "import torchvision.models as models\n",
    "from tqdm import tqdm\n",
    "from workspace_utils import active_session"
   ]
  },
  {
   "cell_type": "markdown",
   "metadata": {},
   "source": [
    "## Load the Dataset\n",
    "\n",
    "Specify your transforms as a list first.\n",
    "The transforms module is already loaded as `transforms`.\n",
    "\n",
    "CIFAR-10 is fortunately included in the torchvision module.\n",
    "Then, you can create your dataset using the `CIFAR10` object from `torchvision.datasets` ([the documentation is available here](https://pytorch.org/docs/stable/torchvision/datasets.html#cifar)).\n",
    "Make sure to specify `download=True`! \n",
    "\n",
    "Once your dataset is created, you'll also need to define a `DataLoader` from the `torch.utils.data` module for both the train and the test set."
   ]
  },
  {
   "cell_type": "code",
   "execution_count": 23,
   "metadata": {},
   "outputs": [],
   "source": [
    "data_dir = \"cifar_10_data\"\n",
    "train_dir = data_dir + \"/train\"\n",
    "valid_dir = data_dir + \"/valid\"\n",
    "test_dir = data_dir + \"/test\""
   ]
  },
  {
   "cell_type": "code",
   "execution_count": 24,
   "metadata": {},
   "outputs": [
    {
     "name": "stdout",
     "output_type": "stream",
     "text": [
      "Files already downloaded and verified\n",
      "Files already downloaded and verified\n",
      "Files already downloaded and verified\n"
     ]
    }
   ],
   "source": [
    "# Define transforms\n",
    "train_transforms = transforms.Compose([\n",
    "    transforms.Resize(1024), #upscale so we have room to work\n",
    "    transforms.RandomRotation(30),\n",
    "    transforms.RandomResizedCrop(224), #downscale to imagenet compatible size\n",
    "    transforms.RandomHorizontalFlip(),\n",
    "    transforms.ToTensor(),\n",
    "    transforms.Normalize((0.485,0.456,0.406),(0.229,0.224,0.225))\n",
    "])\n",
    "\n",
    "valid_transforms = transforms.Compose([\n",
    "    transforms.Resize(255), #upscale so we have room to work\n",
    "    transforms.CenterCrop(224), #downscale to imagenet compatible size\n",
    "    transforms.ToTensor(),\n",
    "    transforms.Normalize((0.485,0.456,0.406),(0.229,0.224,0.225))\n",
    "])\n",
    "\n",
    "test_transforms = transforms.Compose([\n",
    "    transforms.Resize(255), #upscale so we have room to work\n",
    "    transforms.CenterCrop(224), #downscale to imagenet compatible size\n",
    "    transforms.ToTensor(),\n",
    "    transforms.Normalize((0.485,0.456,0.406),(0.229,0.224,0.225))\n",
    "])\n",
    "\n",
    "# Create training set and define training dataloader\n",
    "train_dataset = torchvision.datasets.CIFAR10(root=train_dir, train=True, download=True, transform=train_transforms)\n",
    "valid_dataset = torchvision.datasets.CIFAR10(root=valid_dir, train=True, download=True, transform=valid_transforms)\n",
    "\n",
    "num_train = len(train_dataset)\n",
    "indices = list(range(num_train))\n",
    "np.random.seed(42)\n",
    "np.random.shuffle(indices)\n",
    "split = int(np.floor(0.8 * num_train))\n",
    "train_indices, valid_indices = indices[:split], indices[split:]\n",
    "train_sampler = torch.utils.data.sampler.SubsetRandomSampler(train_indices)\n",
    "valid_sampler = torch.utils.data.sampler.SubsetRandomSampler(valid_indices)\n",
    "\n",
    "train_loader = torch.utils.data.DataLoader(train_dataset, batch_size=32, sampler=train_sampler)\n",
    "valid_loader = torch.utils.data.DataLoader(valid_dataset, batch_size=32, sampler=valid_sampler)\n",
    "\n",
    "# Create test set and define test dataloader\n",
    "test_data = torchvision.datasets.CIFAR10(root=test_dir, train=False, transform=test_transforms, download=True)\n",
    "test_loader = torch.utils.data.DataLoader(test_data, batch_size=32, shuffle=False)\n",
    "\n",
    "# The 10 classes in the dataset\n",
    "classes = ('plane', 'car', 'bird', 'cat', 'deer', 'dog', 'frog', 'horse', 'ship', 'truck')"
   ]
  },
  {
   "cell_type": "markdown",
   "metadata": {},
   "source": [
    "## Explore the Dataset\n",
    "Using matplotlib, numpy, and torch, explore the dimensions of your data.\n",
    "\n",
    "You can view images using the `show5` function defined below – it takes a data loader as an argument.\n",
    "Remember that normalized images will look really weird to you! You may want to try changing your transforms to view images.\n",
    "Typically using no transforms other than `toTensor()` works well for viewing – but not as well for training your network.\n",
    "If `show5` doesn't work, go back and check your code for creating your data loaders and your training/test sets."
   ]
  },
  {
   "cell_type": "code",
   "execution_count": 16,
   "metadata": {},
   "outputs": [],
   "source": [
    "def show5(img_loader):\n",
    "    dataiter = iter(img_loader)\n",
    "    \n",
    "    batch = next(dataiter)\n",
    "    labels = batch[1][0:5]\n",
    "    images = batch[0][0:5]\n",
    "    for i in range(5):\n",
    "        print(classes[labels[i]])\n",
    "    \n",
    "        image = images[i].numpy()\n",
    "        plt.imshow(np.rot90(image.T, k=3))\n",
    "        plt.show()"
   ]
  },
  {
   "cell_type": "code",
   "execution_count": 21,
   "metadata": {},
   "outputs": [
    {
     "name": "stdout",
     "output_type": "stream",
     "text": [
      "deer\n"
     ]
    },
    {
     "data": {
      "image/png": "[encoded data removed]",
      "text/plain": [
       "<matplotlib.figure.Figure at 0x7f8cf80bfbe0>"
      ]
     },
     "metadata": {
      "needs_background": "light"
     },
     "output_type": "display_data"
    },
    {
     "name": "stdout",
     "output_type": "stream",
     "text": [
      "deer\n"
     ]
    },
    {
     "data": {
      "image/png": "[encoded data removed]",
      "text/plain": [
       "<matplotlib.figure.Figure at 0x7f8cf800be10>"
      ]
     },
     "metadata": {
      "needs_background": "light"
     },
     "output_type": "display_data"
    },
    {
     "name": "stdout",
     "output_type": "stream",
     "text": [
      "plane\n"
     ]
    },
    {
     "data": {
      "image/png": "[encoded data removed]",
      "text/plain": [
       "<matplotlib.figure.Figure at 0x7f8cf819c240>"
      ]
     },
     "metadata": {
      "needs_background": "light"
     },
     "output_type": "display_data"
    },
    {
     "name": "stdout",
     "output_type": "stream",
     "text": [
      "frog\n"
     ]
    },
    {
     "data": {
      "image/png": "[encoded data removed]",
      "text/plain": [
       "<matplotlib.figure.Figure at 0x7f8cf467aa20>"
      ]
     },
     "metadata": {
      "needs_background": "light"
     },
     "output_type": "display_data"
    },
    {
     "name": "stdout",
     "output_type": "stream",
     "text": [
      "cat\n"
     ]
    },
    {
     "data": {
      "image/png": "[encoded data removed]",
      "text/plain": [
       "<matplotlib.figure.Figure at 0x7f8cf469b780>"
      ]
     },
     "metadata": {
      "needs_background": "light"
     },
     "output_type": "display_data"
    }
   ],
   "source": [
    "# Explore data\n",
    "show5(train_loader)"
   ]
  },
  {
   "cell_type": "markdown",
   "metadata": {},
   "source": [
    "## Build your Neural Network\n",
    "Using the layers in `torch.nn` (which has been imported as `nn`) and the `torch.nn.functional` module (imported as `F`), construct a neural network based on the parameters of the dataset. \n",
    "Feel free to construct a model of any architecture – feedforward, convolutional, or even something more advanced!"
   ]
  },
  {
   "cell_type": "code",
   "execution_count": 25,
   "metadata": {},
   "outputs": [],
   "source": [
    "training_classifier = nn.Sequential(nn.Linear(1024,256),\n",
    "                                nn.ReLU(),\n",
    "                                nn.Dropout(0.2),\n",
    "                                nn.Linear(256, 10),\n",
    "                                nn.LogSoftmax(dim=1))"
   ]
  },
  {
   "cell_type": "markdown",
   "metadata": {},
   "source": [
    "Specify a loss function and an optimizer, and instantiate the model.\n",
    "\n",
    "If you use a less common loss function, please note why you chose that loss function in a comment."
   ]
  },
  {
   "cell_type": "code",
   "execution_count": 26,
   "metadata": {},
   "outputs": [
    {
     "name": "stderr",
     "output_type": "stream",
     "text": [
      "/opt/conda/lib/python3.6/site-packages/torchvision-0.2.1-py3.6.egg/torchvision/models/densenet.py:212: UserWarning: nn.init.kaiming_normal is now deprecated in favor of nn.init.kaiming_normal_.\n"
     ]
    }
   ],
   "source": [
    "device = \"cuda\"\n",
    "\n",
    "training_model = models.densenet121(pretrained=True)\n",
    "\n",
    "for param in training_model.parameters():\n",
    "    param.requires_grad = False\n",
    "\n",
    "training_model.classifier = training_classifier\n",
    "\n",
    "training_model.to(device)\n",
    "\n",
    "optimizer = optim.Adam(training_model.classifier.parameters(), lr=0.001)\n",
    "criterion = nn.NLLLoss()"
   ]
  },
  {
   "cell_type": "markdown",
   "metadata": {},
   "source": [
    "## Running your Neural Network\n",
    "Use whatever method you like to train your neural network, and ensure you record the average loss at each epoch. \n",
    "Don't forget to use `torch.device()` and the `.to()` method for both your model and your data if you are using GPU!\n",
    "\n",
    "If you want to print your loss during each epoch, you can use the `enumerate` function and print the loss after a set number of batches. 250 batches works well for most people!"
   ]
  },
  {
   "cell_type": "code",
   "execution_count": 27,
   "metadata": {},
   "outputs": [],
   "source": [
    "def getFloatTensorType(device):\n",
    "    return torch.FloatTensor if device == \"cpu\" else torch.cuda.FloatTensor"
   ]
  },
  {
   "cell_type": "code",
   "execution_count": 28,
   "metadata": {},
   "outputs": [
    {
     "name": "stderr",
     "output_type": "stream",
     "text": [
      "Train:   0%|          | 0/1250 [00:00<?, ?it/s]"
     ]
    },
    {
     "name": "stdout",
     "output_type": "stream",
     "text": [
      "Epochs completed:0 targeted:5 training:5 ...\n"
     ]
    },
    {
     "name": "stderr",
     "output_type": "stream",
     "text": [
      "Train: 100%|██████████| 1250/1250 [15:44<00:00,  1.33it/s]\n",
      "Valid: 100%|██████████| 313/313 [01:30<00:00,  4.07it/s]\n",
      "Train:   0%|          | 0/1250 [00:00<?, ?it/s]"
     ]
    },
    {
     "name": "stdout",
     "output_type": "stream",
     "text": [
      "E:1 Training Loss:1.448 Validation Loss:0.809 Accuracy:72.813\n"
     ]
    },
    {
     "name": "stderr",
     "output_type": "stream",
     "text": [
      "Train: 100%|██████████| 1250/1250 [15:44<00:00,  1.33it/s]\n",
      "Valid: 100%|██████████| 313/313 [01:29<00:00,  4.02it/s]\n",
      "Train:   0%|          | 0/1250 [00:00<?, ?it/s]"
     ]
    },
    {
     "name": "stdout",
     "output_type": "stream",
     "text": [
      "E:2 Training Loss:1.288 Validation Loss:0.750 Accuracy:73.802\n"
     ]
    },
    {
     "name": "stderr",
     "output_type": "stream",
     "text": [
      "Train: 100%|██████████| 1250/1250 [15:42<00:00,  1.33it/s]\n",
      "Valid: 100%|██████████| 313/313 [01:30<00:00,  4.00it/s]\n",
      "Train:   0%|          | 0/1250 [00:00<?, ?it/s]"
     ]
    },
    {
     "name": "stdout",
     "output_type": "stream",
     "text": [
      "E:3 Training Loss:1.246 Validation Loss:0.709 Accuracy:75.459\n"
     ]
    },
    {
     "name": "stderr",
     "output_type": "stream",
     "text": [
      "Train: 100%|██████████| 1250/1250 [15:43<00:00,  1.33it/s]\n",
      "Valid: 100%|██████████| 313/313 [01:30<00:00,  3.99it/s]\n",
      "Train:   0%|          | 0/1250 [00:00<?, ?it/s]"
     ]
    },
    {
     "name": "stdout",
     "output_type": "stream",
     "text": [
      "E:4 Training Loss:1.238 Validation Loss:0.691 Accuracy:76.398\n"
     ]
    },
    {
     "name": "stderr",
     "output_type": "stream",
     "text": [
      "Train: 100%|██████████| 1250/1250 [15:43<00:00,  1.32it/s]\n",
      "Valid: 100%|██████████| 313/313 [01:30<00:00,  4.03it/s]"
     ]
    },
    {
     "name": "stdout",
     "output_type": "stream",
     "text": [
      "E:5 Training Loss:1.229 Validation Loss:0.728 Accuracy:75.010\n"
     ]
    },
    {
     "name": "stderr",
     "output_type": "stream",
     "text": [
      "\n"
     ]
    }
   ],
   "source": [
    "#set status\n",
    "epochs_completed = 0\n",
    "\n",
    "#set expectation\n",
    "epochs_target = 5 # train until\n",
    "\n",
    "#duration of this training session\n",
    "epochs = epochs_target - epochs_completed\n",
    "\n",
    "print(\"Epochs completed:{} targeted:{} training:{} ...\".format(epochs_completed, epochs_target, epochs))\n",
    "training_losses, validation_losses = [], []\n",
    "\n",
    "with active_session(): #to keep vm workspace alive for more than 30 minutes\n",
    "    for e in range(epochs):\n",
    "\n",
    "        running_loss = 0\n",
    "\n",
    "        for images, labels in tqdm(train_loader, desc=\"Train\"):\n",
    "            images, labels = images.to(device), labels.to(device)\n",
    "\n",
    "            optimizer.zero_grad()\n",
    "            log_ps = training_model(images)\n",
    "            loss = criterion(log_ps, labels)\n",
    "            loss.backward()\n",
    "            optimizer.step()\n",
    "            running_loss += loss.item()        \n",
    "\n",
    "        epochs_completed += 1\n",
    "        validation_loss = 0\n",
    "        validation_accuracy = 0\n",
    "        floatTensorType = getFloatTensorType(device)\n",
    "\n",
    "        training_model.eval()\n",
    "\n",
    "        with torch.no_grad():\n",
    "            for images, labels in tqdm(valid_loader, desc=\"Valid\"):\n",
    "                images, labels = images.to(device), labels.to(device)\n",
    "\n",
    "                log_ps = training_model(images)\n",
    "                loss = criterion(log_ps, labels)\n",
    "                validation_loss += loss.item()\n",
    "                ps = torch.exp(log_ps)\n",
    "                top_ps, top_class = ps.topk(1, dim=1)\n",
    "                correct = top_class == labels.view(*top_class.shape)\n",
    "                accuracy = torch.mean(correct.type(floatTensorType))\n",
    "                validation_accuracy += accuracy.item()\n",
    "\n",
    "        training_model.train() \n",
    "\n",
    "        training_losses.append(running_loss/len(train_loader))\n",
    "        validation_losses.append(validation_loss/len(valid_loader))\n",
    "        print('E:{} Training Loss:{:.3f} Validation Loss:{:.3f} Accuracy:{:.3f}'.format(\n",
    "            epochs_completed,\n",
    "            running_loss/len(train_loader),\n",
    "            validation_loss/len(valid_loader),\n",
    "            100*(validation_accuracy/len(valid_loader))\n",
    "            )\n",
    "        )"
   ]
  },
  {
   "cell_type": "markdown",
   "metadata": {},
   "source": [
    "Plot the training loss (and validation loss/accuracy, if recorded)."
   ]
  },
  {
   "cell_type": "code",
   "execution_count": 29,
   "metadata": {},
   "outputs": [],
   "source": [
    "%matplotlib inline\n",
    "%config InlineBackend.figure_format = 'retina'"
   ]
  },
  {
   "cell_type": "code",
   "execution_count": 30,
   "metadata": {},
   "outputs": [
    {
     "data": {
      "text/plain": [
       "<matplotlib.legend.Legend at 0x7f577ce87e48>"
      ]
     },
     "execution_count": 30,
     "metadata": {},
     "output_type": "execute_result"
    },
    {
     "data": {
      "image/png": "[encoded data removed]",
      "text/plain": [
       "<matplotlib.figure.Figure at 0x7f578fd04668>"
      ]
     },
     "metadata": {
      "image/png": {
       "height": 250,
       "width": 373
      },
      "needs_background": "light"
     },
     "output_type": "display_data"
    }
   ],
   "source": [
    "plt.plot(training_losses, label='Training Losses')\n",
    "plt.plot(validation_losses, label='Validation Losses')\n",
    "plt.legend(frameon=False)"
   ]
  },
  {
   "cell_type": "markdown",
   "metadata": {},
   "source": [
    "## Testing your model\n",
    "Using the previously created `DataLoader` for the test set, compute the percentage of correct predictions using the highest probability prediction. \n",
    "\n",
    "If your accuracy is over 70%, great work! \n",
    "This is a hard task to exceed 70% on.\n",
    "\n",
    "If your accuracy is under 45%, you'll need to make improvements.\n",
    "Go back and check your model architecture, loss function, and optimizer to make sure they're appropriate for an image classification task."
   ]
  },
  {
   "cell_type": "code",
   "execution_count": 31,
   "metadata": {},
   "outputs": [
    {
     "name": "stderr",
     "output_type": "stream",
     "text": [
      "Test: 100%|██████████| 313/313 [01:30<00:00,  4.04it/s]"
     ]
    },
    {
     "name": "stdout",
     "output_type": "stream",
     "text": [
      "E:5 Test Loss:0.721 Accuracy:75.070\n"
     ]
    },
    {
     "name": "stderr",
     "output_type": "stream",
     "text": [
      "\n"
     ]
    }
   ],
   "source": [
    "device = 'cuda'\n",
    "test_loss = 0\n",
    "test_accuracy = 0\n",
    "floatTensorType = getFloatTensorType(device)\n",
    "\n",
    "training_model.to(device)\n",
    "training_model.eval()\n",
    "with torch.no_grad():\n",
    "    #print(\"Validating a {}-epochs model on {} batches of size {}...\".format(epochs_completed, len(validloader), validloader.batch_size))\n",
    "    for images, labels in tqdm(test_loader, desc=\"Test\"):\n",
    "        images, labels = images.to(device), labels.to(device)\n",
    "\n",
    "        log_ps = training_model(images)\n",
    "        loss = criterion(log_ps, labels)\n",
    "        test_loss += loss.item()\n",
    "        ps = torch.exp(log_ps)\n",
    "        top_ps, top_class = ps.topk(1, dim=1)\n",
    "        correct = top_class == labels.view(*top_class.shape)\n",
    "        accuracy = torch.mean(correct.type(floatTensorType))\n",
    "        test_accuracy += accuracy.item()\n",
    "\n",
    "    #print(\"E:{} Test:{:.3f} Acc:{:.3f}\".format(epochs_completed, test_loss/len(validloader), 100.0 * test_accuracy/len(validloader)))\n",
    "\n",
    "training_model.train() \n",
    "\n",
    "print('E:{} Test Loss:{:.3f} Accuracy:{:.3f}'.format(\n",
    "        epochs_completed,\n",
    "        test_loss/len(test_loader),\n",
    "        100*(test_accuracy/len(test_loader))\n",
    "        )\n",
    "    )"
   ]
  },
  {
   "cell_type": "markdown",
   "metadata": {},
   "source": [
    "## Saving your model\n",
    "Using `torch.save`, save your model for future loading."
   ]
  },
  {
   "cell_type": "code",
   "execution_count": 32,
   "metadata": {},
   "outputs": [],
   "source": [
    "def save_checkpoint(model, model_arch, optimizer, optimizer_learning_rate, epochs_completed, to_file_path):\n",
    "    model.cpu()\n",
    "    checkpoint = {\n",
    "        'model_arch': model_arch,\n",
    "        'model_classifier': model.classifier,\n",
    "        'model_state_dict': model.state_dict(),\n",
    "        'optimizer_learning_rate': optimizer_learning_rate,\n",
    "        'optimizer_state_dict': optimizer.state_dict(),\n",
    "        'epochs_completed': epochs_completed\n",
    "    }\n",
    "    torch.save(checkpoint, to_file_path)"
   ]
  },
  {
   "cell_type": "code",
   "execution_count": 33,
   "metadata": {},
   "outputs": [],
   "source": [
    "training_arch = 'densenet121'\n",
    "training_lr = 0.001\n",
    "training_hidden_units_count = 256\n",
    "save_checkpoint(training_model, training_arch, optimizer, training_lr, epochs_completed,\n",
    "                    'checkpoint_'+training_arch+'h'+str(training_hidden_units_count)+'e'+str(epochs_completed)+'.pth')"
   ]
  },
  {
   "cell_type": "markdown",
   "metadata": {},
   "source": [
    "## Make a Recommendation\n",
    "\n",
    "Based on your evaluation, what is your recommendation on whether to build or buy? Explain your reasoning below.\n",
    "\n",
    "Some things to consider as you formulate your recommendation:\n",
    "* How does your model compare to Detectocorp's model?\n",
    "* How does it compare to the far more advanced solutions in the literature? \n",
    "* What did you do to get the accuracy you achieved? \n",
    "* Is it necessary to improve this accuracy? If so, what sort of work would be involved in improving it?"
   ]
  },
  {
   "cell_type": "markdown",
   "metadata": {},
   "source": [
    "My model achieves over 75% accuracy, whereas Detectocorp's only has 70% accuracy.\n",
    "\n",
    "My model achieves similar accuracy to the Deep Belief Networks from 2010.\n",
    "\n",
    "I used transfer learning based on a DenseNet121 pre-trained model and replaced the final classifier with 256 hidden units, 0.2 drop out, a learning rate of 0.001, and 5 epochs of training to achieve over 75% accuracy.\n",
    "\n",
    "My model's accuracy could be improved by training more epochs (perhaps 10, 15, or 20 epochs instead of 5).\n",
    "\n",
    "Based on my evaluation, I recommend to build--not buy--a model because we can achieve over 75% accuracy in just 5 epochs of training based on a pre-trained DenseNet121 model with transfer learning.\n"
   ]
  },
  {
   "cell_type": "markdown",
   "metadata": {},
   "source": [
    "## Submit Your Project\n",
    "\n",
    "When you are finished editing the notebook and are ready to turn it in, simply click the **SUBMIT PROJECT** button in the lower right.\n",
    "\n",
    "Once you submit your project, we'll review your work and give you feedback if there's anything that you need to work on. If you'd like to see the exact points that your reviewer will check for when looking at your work, you can have a look over the project [rubric](https://review.udacity.com/#!/rubrics/3077/view)."
   ]
  }
 ],
 "metadata": {
  "kernelspec": {
   "display_name": "Python 3",
   "language": "python",
   "name": "python3"
  },
  "language_info": {
   "codemirror_mode": {
    "name": "ipython",
    "version": 3
   },
   "file_extension": ".py",
   "mimetype": "text/x-python",
   "name": "python",
   "nbconvert_exporter": "python",
   "pygments_lexer": "ipython3",
   "version": "3.6.3"
  }
 },
 "nbformat": 4,
 "nbformat_minor": 4
}
